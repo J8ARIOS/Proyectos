{
 "cells": [
  {
   "cell_type": "code",
   "execution_count": 51,
   "metadata": {},
   "outputs": [
    {
     "name": "stdout",
     "output_type": "stream",
     "text": [
      "El archivo fue leido y modificado correctamente\n"
     ]
    }
   ],
   "source": [
    "import os\n",
    "\n",
    "archivo = input(\"¿Que archivo deseas abrir?\")\n",
    "if os.path.exists(archivo):\n",
    "    archivo = open(archivo, \"a\")\n",
    "    archivo.write(\"\\n\")\n",
    "    archivo.write(\"\\nEl archivo fue leido correctamente\")\n",
    "    archivo.close()\n",
    "\n",
    "    print(\"El archivo fue leido y modificado correctamente\")\n",
    "\n",
    "else:\n",
    "    print(\"El archivo seleccionado no existe\")\n",
    "\n",
    " \n",
    " \n",
    "\n"
   ]
  }
 ],
 "metadata": {
  "kernelspec": {
   "display_name": "Python 3",
   "language": "python",
   "name": "python3"
  },
  "language_info": {
   "codemirror_mode": {
    "name": "ipython",
    "version": 3
   },
   "file_extension": ".py",
   "mimetype": "text/x-python",
   "name": "python",
   "nbconvert_exporter": "python",
   "pygments_lexer": "ipython3",
   "version": "3.10.10"
  },
  "orig_nbformat": 4
 },
 "nbformat": 4,
 "nbformat_minor": 2
}
